{
 "cells": [
  {
   "cell_type": "markdown",
   "metadata": {},
   "source": [
    "# <div style=\"line-height:1.5\"> Can mirrors prevent climate change? A comparison of the impact of increased albedo  versus synthetic fuel production </div>"
   ]
  },
  {
   "cell_type": "markdown",
   "metadata": {},
   "source": [
    "Author: Benjamin W. Portner, Bauhaus Luftfahrt e.V."
   ]
  },
  {
   "cell_type": "markdown",
   "metadata": {
    "toc": true
   },
   "source": [
    "<h1>Table of Contents<span class=\"tocSkip\"></span></h1>\n",
    "<div class=\"toc\"><ul class=\"toc-item\"><li><span><a href=\"#Research-question\" data-toc-modified-id=\"Research-question-1\"><span class=\"toc-item-num\">1&nbsp;&nbsp;</span>Research question</a></span></li><li><span><a href=\"#Radiative-forcing-of-mirrors\" data-toc-modified-id=\"Radiative-forcing-of-mirrors-2\"><span class=\"toc-item-num\">2&nbsp;&nbsp;</span>Radiative forcing of mirrors</a></span><ul class=\"toc-item\"><li><span><a href=\"#Earth's-energy-budget\" data-toc-modified-id=\"Earth's-energy-budget-2.1\"><span class=\"toc-item-num\">2.1&nbsp;&nbsp;</span>Earth's energy budget</a></span></li><li><span><a href=\"#The-potential-of-mirrors\" data-toc-modified-id=\"The-potential-of-mirrors-2.2\"><span class=\"toc-item-num\">2.2&nbsp;&nbsp;</span>The potential of mirrors</a></span></li></ul></li><li><span><a href=\"#Radiative-forcing-of-CO2\" data-toc-modified-id=\"Radiative-forcing-of-CO2-3\"><span class=\"toc-item-num\">3&nbsp;&nbsp;</span>Radiative forcing of CO<sub>2</sub></a></span></li><li><span><a href=\"#Mirror-CO2-compensation\" data-toc-modified-id=\"Mirror-CO2-compensation-4\"><span class=\"toc-item-num\">4&nbsp;&nbsp;</span>Mirror CO<sub>2</sub> compensation</a></span></li><li><span><a href=\"#Comparison-to-other-mitigation-strategies\" data-toc-modified-id=\"Comparison-to-other-mitigation-strategies-5\"><span class=\"toc-item-num\">5&nbsp;&nbsp;</span>Comparison to other mitigation strategies</a></span></li><li><span><a href=\"#Conclusion\" data-toc-modified-id=\"Conclusion-6\"><span class=\"toc-item-num\">6&nbsp;&nbsp;</span>Conclusion</a></span></li></ul></div>"
   ]
  },
  {
   "cell_type": "markdown",
   "metadata": {},
   "source": [
    "## Research question\n",
    "Given that land is a limited resource, what is more effective in tackling climate change: building mirrors that reflect the incoming sun light or building a synthetic fuel plant to replace fossil fuels?"
   ]
  },
  {
   "cell_type": "markdown",
   "metadata": {},
   "source": [
    "## Radiative forcing of mirrors\n",
    "\n",
    "### Earth's energy budget\n",
    "\n",
    "<img src=\"https://upload.wikimedia.org/wikipedia/commons/b/bb/The-NASA-Earth%27s-Energy-Budget-Poster-Radiant-Energy-System-satellite-infrared-radiation-fluxes.jpg\" style=\"width:60%\"> </img>\n",
    "\n",
    "\n"
   ]
  },
  {
   "cell_type": "markdown",
   "metadata": {},
   "source": [
    "Image courtesy of NASA: Loeb et al., J. Clim 2009 & Trenberth et al, BAMS 2009. Hosting powered by Wikipedia."
   ]
  },
  {
   "cell_type": "markdown",
   "metadata": {},
   "source": [
    "Quoting Wikipedia (https://en.wikipedia.org/wiki/Solar_constant): \n",
    "The amount of solar energy received by a flat object at a distance of one Astronomical Unit (AU) from the sun is defined as the solar constant: $\\sigma = 1361 \\frac{W}{m^2}$. This amount is very constant even through different activity periods of the sun. The actual amount of energy arriving at the top of the earth's atmosphere varies between 1412 W/m2 in early January and 1321 W/m2 in early July due to the elliptic shape of the earth's orbit. The solar constant presents the annual mean received by the earth's cross-section ($\\pi R_E^2$). Thanks to the rotation of the earth, this amount is spread among its surface ($4\\pi R_E^2$). The average incoming radiation on the earth's surface is thus:\n",
    "\n",
    "$ F_{in} = \\sigma \\cdot \\dfrac{\\pi R_E^2}{4 \\pi R_E^2} \\approx 340 \\, \\frac{W}{m^2}$"
   ]
  },
  {
   "cell_type": "markdown",
   "metadata": {},
   "source": [
    "This is the amount labeled \"incoming solar radiation\" in above graphic. Of the 340 W/m2, approximately 30% are reflected back into space by the atmosphere and the earth's surface. This value presents the earth's average albedo (atmsopheric + surface). Another 23% of the incoming radiation are absorbed by the atmosphere and re-emitted as infrared radiation. Effectively, 186 W/m2 (55%) reach the surface of the earth (before surface reflection). \n",
    "\n",
    "$F_{surface} = 186  \\, \\frac{W}{m^2}$\n",
    "\n",
    "The average surface albedo is the ratio of reflected radiation to incoming radiation:\n",
    "\n",
    "$\\epsilon_{surface} = \\frac{22.9}{186} \\approx 0.12 $"
   ]
  },
  {
   "cell_type": "markdown",
   "metadata": {},
   "source": [
    "By using mirrors, this value can be increased. More energy would be reflected back to space, less energy would be absorbed and turned into infrared radiation. Thus, increasing surface albedo would have a cooling effect on the climate. In the next section, I will try to quantify this effect."
   ]
  },
  {
   "cell_type": "markdown",
   "metadata": {},
   "source": [
    "### The potential of mirrors\n",
    "\n",
    "As stated before, installing mirrors effectively means increasing the earth surface's albedo. Albedo is a rather uncommon term to describe the efficiency of light reflection for mirrors. Instead, the term reflectivity is used (although it's definition is identical to that of albedo). Reflectivity depends on many factors such as wavelength of the incoming light, mirror material thickness, and its elemental composition."
   ]
  },
  {
   "cell_type": "markdown",
   "metadata": {},
   "source": [
    "<img src=\"https://upload.wikimedia.org/wikipedia/commons/e/e7/Solar_spectrum_en.svg\" style=\"width:60%\"> </img>"
   ]
  },
  {
   "cell_type": "markdown",
   "metadata": {},
   "source": [
    "Image courtesy of Wikipedia: https://en.wikipedia.org/wiki/File:Solar_spectrum_en.svg"
   ]
  },
  {
   "cell_type": "markdown",
   "metadata": {},
   "source": [
    "Above graphic shows the spectral composition of sunlight, both at the top of the atmosphere (yellow) and at the earth's surface (red). Clearly, most of the energy at the surface is carried in the visible and near-infrared spectrum. Smaller amounts fall in the UV-A and -B range and in the IR-B range. An ideal mirror would be insensitive to the difference. In reality, mirrors are usually sensitive either to short wavelengths or to long ones. Aluminum for example \"will reflect 85 to 90% of the light in the visible to near-ultraviolet range, but experiences a drop in its reflectance between 800 and 900 nm\". Silver on the other hand \"can reflect up to 98 or 99% of light to wavelengths as long as 2000 nm, but loses nearly all reflectivity at wavelengths shorter than 350 nm\" (https://en.wikipedia.org/wiki/Mirror#Tolerances). Silver would probably be the best candidate for our mirrors. However, aluminum is the more likely choice for large-scale application for economic reasons. Considering this, let us assume a reflectivity $\\epsilon_{mirror}$ of 50%\n",
    "\n",
    "$ F_{reflected} = F_{surface} \\cdot \\epsilon_{mirror} \\approx 93 \\, \\frac{W}{m^2}$"
   ]
  },
  {
   "cell_type": "markdown",
   "metadata": {},
   "source": [
    "After reflection from the mirror, radiation will again hit the atmosphere. The energy flux leaving earth is defined by the transmissivity of the earth's atmosphere:\n",
    "\n",
    "$ F_{out} = F_{reflected} \\cdot \\theta_{atmosphere} $"
   ]
  },
  {
   "cell_type": "markdown",
   "metadata": {},
   "source": [
    "The transmissivity can be approximated from the first graphic. Of the incoming solar radiation, 23% were absorbed by the atmosphere. This energy will be re-emitted partly to the earth's surface and partly to space. For this analysis, I assume the distribution is 50:50. Another 23% of the incoming solar radiation was reflected back to space. Consequently, the same amount will be reflected back to the earth when coming from the opposite side. A small part will then be re-re-reflected by the surface and so on. This amount is neglected here. All of the reflected radiation is treated as not transmitted. Thus:\n",
    "\n",
    "$ \\theta_{atmosphere} \\approx 1 - 0.23 \\cdot 0.5 - 0.23 \\approx 0.66 $"
   ]
  },
  {
   "cell_type": "markdown",
   "metadata": {},
   "source": [
    "Inserting yields\n",
    "\n",
    "$ F_{out} = 61 \\, \\frac{W}{m^2} $"
   ]
  },
  {
   "cell_type": "markdown",
   "metadata": {},
   "source": [
    "After installing the mirror, 61 W/m2 are reflected from earth back to space. Before installation, 23 W/m2 were reflected due to surface albedo. The difference is the change in our earth's energy balance:\n",
    "\n",
    "$ \\Delta F = 23 \\, \\frac{W}{m^2} - 61 \\, \\frac{W}{m^2} = -38 \\, \\frac{W}{m^2} $\n",
    "\n",
    "The area in the denominator refers to area of the mirror. Radiative forcing is usually expressed in reference to the earth's surface area. The radiative forcing (RF) of a field of mirrors is thus:\n",
    "\n",
    "$ RF = \\Delta F \\cdot \\dfrac{A_{mirror}}{A_{earth}} \\approx \\Delta F \\cdot \\dfrac{A_{mirror}}{510.1 \\cdot 10^6 km^2} $"
   ]
  },
  {
   "cell_type": "markdown",
   "metadata": {},
   "source": [
    "## Radiative forcing of CO<sub>2</sub>"
   ]
  },
  {
   "cell_type": "markdown",
   "metadata": {},
   "source": [
    "CO2 is a so-called greenhouse gas (GHG). GHGs are good transmitters of radiation of short wavelengths and are good absorbers of radiation of long wavelengths. Thus, they permit energy in the form of sun light to reach earth and they prevent long-wavelength radiation from escaping to space. Thanks to this effect, the average surface temperature on earth is at a cozy 14°C rather than freezing -18°C if it didn't have an atmosphere (https://en.wikipedia.org/wiki/Greenhouse_effect)."
   ]
  },
  {
   "cell_type": "markdown",
   "metadata": {},
   "source": [
    "If the concentration of GHGs in the atmosphere increases, so will the earth's temperature. This change can be equivalently expressed as an increase in incoming (and thus outgoing, assuming equilibrium) solar radiation. This is what scientists call radiative forcing $\\Delta F$. For a change in CO<sub>2</sub> concentration, radiative forcing can be approximated by a logarithmic relationship (https://en.wikipedia.org/wiki/Radiative_forcing):\n",
    "\n",
    "$ RF \\, \\left[\\dfrac{W}{m^2} \\right] = 5.35 \\ln \\left(\\dfrac{C}{C_0}\\right) = 5.35 \\ln \\left(\\dfrac{C_0 + \\Delta C}{C_0} \\right)$"
   ]
  },
  {
   "cell_type": "markdown",
   "metadata": {},
   "source": [
    "Where $c_0$ is the reference concentration measured in volumetric parts per million (ppm-v). Today, the concentration of CO<sub>2</sub> in the atmosphere is approximately $c_0 = 400$ ppm-v."
   ]
  },
  {
   "cell_type": "markdown",
   "metadata": {},
   "source": [
    "Now, let us express this equation in terms of mass rather than concentration, for easier handling. One ppm-v of CO<sub>2</sub> corresponds roughly to 2.13 Gt of carbon (https://cdiac.ess-dive.lbl.gov/pns/faq.html). Thus:\n",
    "\n",
    "$ \\Delta C \\, [ppm\\text{-}v] \\approx  2.13  \\Delta m_{C} \\, [Gt] \\approx 7.81 \\Delta m_{CO_2} \\, [Gt]$"
   ]
  },
  {
   "cell_type": "markdown",
   "metadata": {},
   "source": [
    "Inserting yields:\n",
    "\n",
    "$ RF \\, \\left[\\dfrac{W}{m^2} \\right] = 5.35 \\ln\\bigg(1 + 0.02 \\,\\Delta m_{CO_2} [Gt] \\bigg)$\n"
   ]
  },
  {
   "cell_type": "markdown",
   "metadata": {},
   "source": [
    "## Mirror CO<sub>2</sub> compensation\n",
    "\n",
    "Let us use what we know to answer a practical question: What mirror area would be necessary to compensate the aviation sector's CO<sub>2</sub> emissions? \n",
    "\n",
    "Aviation CO<sub>2</sub> emissions in 2018 amounted to 0.895 Gt (https://www.atag.org/facts-figures.html). However, not all of this CO<sub>2</sub> adds to radiative forcing. Part of the emitted CO<sub>2</sub> is absorbed by the earth's oceans and plants. In the past, about 45% of emitted CO<sub>2</sub> stayed in the atmosphere, whereas 55% were absorbed (https://earthobservatory.nasa.gov/features/CarbonCycle/page5.php). The atmospheric CO<sub>2</sub> increase was thus:\n",
    "\n",
    "$ \\Delta m_{CO_2} \\approx 0.45 \\cdot 0.895 \\, Gt \\approx 0.4 \\, Gt $"
   ]
  },
  {
   "cell_type": "markdown",
   "metadata": {},
   "source": [
    "The corresponding radiative forcing amounts to:\n",
    "\n",
    "$ RF_{aviation} = 0.04 \\, \\dfrac{W}{m^2} $\n"
   ]
  },
  {
   "cell_type": "markdown",
   "metadata": {},
   "source": [
    "Now, how much mirror area is necessary to compensate this RF? Expressing the area in percent of the earth's surface:"
   ]
  },
  {
   "cell_type": "markdown",
   "metadata": {},
   "source": [
    "$ \n",
    "\\dfrac{ A_{mirror} }{ A_{earth} } \n",
    "= - \\dfrac{ RF_{aviation} }{ \\Delta F_{mirror} } \\cdot 100\\%\n",
    "\\approx 0.1 \\% \n",
    "$"
   ]
  },
  {
   "cell_type": "markdown",
   "metadata": {},
   "source": [
    "By covering 0.1% of the earth's surface (ca. 54 Mio. km<sup>2</sup>) with mirrors, one could compensate the aviation industry's CO<sub>2</sub> emissions of the year 2018 (not taking into account non-CO<sub>2</sub> effects)."
   ]
  },
  {
   "cell_type": "markdown",
   "metadata": {},
   "source": [
    "## Comparison to other mitigation strategies\n",
    "\n",
    "The burning of fuel made from atmospheric CO2 (captured by plants or by technical means) does not contribute to global warming. The carbon balance is net zero. However, energy and materials used during production of the fuel will contribute. Typical emission savings from synthetic fuels range between 0 and 90%, i.e. emissions range between 0.25 and 2.5 Gt CO2 per Gt fuel. In order to compensate 26 Gt of CO2, a plant needs to produce at least 29 Gt fuel (90% emission savings case). To produce such an amount of fuel on one square meter will take a lot of time!"
   ]
  },
  {
   "cell_type": "markdown",
   "metadata": {},
   "source": [
    "## Conclusion "
   ]
  },
  {
   "cell_type": "code",
   "execution_count": null,
   "metadata": {},
   "outputs": [],
   "source": []
  }
 ],
 "metadata": {
  "kernelspec": {
   "display_name": "Python 3",
   "language": "python",
   "name": "python3"
  },
  "language_info": {
   "codemirror_mode": {
    "name": "ipython",
    "version": 3
   },
   "file_extension": ".py",
   "mimetype": "text/x-python",
   "name": "python",
   "nbconvert_exporter": "python",
   "pygments_lexer": "ipython3",
   "version": "3.6.5"
  },
  "toc": {
   "base_numbering": 1,
   "nav_menu": {},
   "number_sections": true,
   "sideBar": true,
   "skip_h1_title": true,
   "title_cell": "Table of Contents",
   "title_sidebar": "Contents",
   "toc_cell": true,
   "toc_position": {},
   "toc_section_display": true,
   "toc_window_display": false
  }
 },
 "nbformat": 4,
 "nbformat_minor": 2
}
